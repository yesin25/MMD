{
  "nbformat": 4,
  "nbformat_minor": 0,
  "metadata": {
    "colab": {
      "provenance": [],
      "authorship_tag": "ABX9TyPYSVtTKTpukVhdNI7gJMvo",
      "include_colab_link": true
    },
    "kernelspec": {
      "name": "python3",
      "display_name": "Python 3"
    },
    "language_info": {
      "name": "python"
    }
  },
  "cells": [
    {
      "cell_type": "markdown",
      "metadata": {
        "id": "view-in-github",
        "colab_type": "text"
      },
      "source": [
        "<a href=\"https://colab.research.google.com/github/yesin25/MMD/blob/main/M%C3%A9todos_de_ordenamiento_de_un_vector_actividad_1_2.ipynb\" target=\"_parent\"><img src=\"https://colab.research.google.com/assets/colab-badge.svg\" alt=\"Open In Colab\"/></a>"
      ]
    },
    {
      "cell_type": "markdown",
      "source": [
        "<img width=\"800px\" src=\"https://static.wikia.nocookie.net/logopedia/images/5/50/Universidad_Ricardo_Palma.jpg/revision/latest?cb=20210407204705&path-prefix=es\"></img>\n",
        "# <font color='Darkgreen'>**Unidad de Posgrado - Maestria en Ciencias de los Datos**</font></span>\n",
        "## <font color='Green'> **Métodos de Matrices Distribuidas** </font></span>\n",
        "Alumno: **Camarena - Pachas - Yesin**"
      ],
      "metadata": {
        "id": "OseowvA8coql"
      }
    },
    {
      "cell_type": "markdown",
      "source": [
        "# Algoritmos de Ordenamiento\n",
        "En esta presentación,elaboramos los siguientes metodos de ordenamiento:\n",
        "\n",
        "\n"
      ],
      "metadata": {
        "id": "JJIqs4GnEAEe"
      }
    },
    {
      "cell_type": "markdown",
      "source": [
        "## 1.Bubble Sort (Ordenamiento de Burbuja)\n",
        "\n",
        "El Bubble Sort es un algoritmo simple de ordenamiento que funciona comparando pares de elementos adyacentes y reordenándolos si están en el orden incorrecto.\n",
        "\n",
        "Su pseudocódigo en Python es:\n",
        "\n",
        "1. Inicializar un vector 'arr' con los valores del vector.\n",
        "2. Obtener la longitud del vector 'n'..\n",
        "3. Comenzar un ciclo exterior que se repetirá 'n' veces para asegurar que el elemento más grande se coloque en su posición correcta en cada iteración:\n",
        "   1. Iniciar un ciclo interior desde 0 hasta 'n - i - 1', donde 'i' es el número de iteración del ciclo exterior:\n",
        "      1. Comparar 'arr[j]' con 'arr[j+1]'. Si 'arr[j]' es mayor que 'arr[j+1]', intercambiar los valores de 'arr[j]' y 'arr[j+1]'.\n",
        "      2. Continuar con el siguiente par de elementos adyacentes.\n",
        "   2. Fin del ciclo interior.\n",
        "4. Repetir el paso 3 hasta que se completen todas las iteraciones del ciclo exterior.\n",
        "5. El vector 'arr' estará completamente ordenado después de todas las iteraciones.\n",
        "6. Finalmente se muestra elvector ordenado\n"
      ],
      "metadata": {
        "id": "_317EZzpEEOI"
      }
    },
    {
      "cell_type": "code",
      "source": [
        "# Función de ordenamiento de burbuja (Bubble Sort)\n",
        "def bubble_sort(arr):\n",
        "    n = len(arr)  # Obtenemos la longitud del vector\n",
        "\n",
        "    # El ciclo exterior ejecuta 'n' veces, donde 'n' es la longitud del vector\n",
        "    for i in range(n):\n",
        "        # En cada iteración del ciclo exterior, el elemento más grande se \"burbujea\" hasta la posición correcta\n",
        "        # El número de comparaciones disminuye en cada iteración\n",
        "        for j in range(0, n-i-1):\n",
        "            # Comparamos dos elementos adyacentes\n",
        "            if arr[j] > arr[j+1]:\n",
        "                # Si el elemento actual es mayor que el siguiente, los intercambiamos\n",
        "                arr[j], arr[j+1] = arr[j+1], arr[j]\n",
        "\n",
        "    return arr"
      ],
      "metadata": {
        "id": "K4w3CApwHuxJ"
      },
      "execution_count": 9,
      "outputs": []
    },
    {
      "cell_type": "markdown",
      "source": [
        "Ejemplo 1,el algoritmo de ordenamiento de burbuja (Bubble Sort) aplicado al vector\n",
        "\n",
        "`arr = [64, 34, 25, 12, 22, 11, 90]`\n",
        "\n",
        "con los valores de `i` y `j` en cada paso, así como los vectores en cada iteración y en cada cambio:\n",
        "\n",
        "**Iteración 1** (i=0):\n",
        "- Comparación (j=0): [34, 64, 25, 12, 22, 11, 90]\n",
        "- Comparación (j=1): [34, 25, 64, 12, 22, 11, 90]\n",
        "- Comparación (j=2): [34, 25, 12, 64, 22, 11, 90]\n",
        "- Comparación (j=3): [34, 25, 12, 22, 64, 11, 90]\n",
        "- Comparación (j=4): [34, 25, 12, 22, 11, 64, 90]\n",
        "\n",
        "**Iteración 2** (i=1):\n",
        "- Comparación (j=0): [25, 34, 12, 22, 11, 64, 90]\n",
        "- Comparación (j=1): [25, 12, 34, 22, 11, 64, 90]\n",
        "- Comparación (j=2): [25, 12, 22, 34, 11, 64, 90]\n",
        "- Comparación (j=3): [25, 12, 22, 11, 34, 64, 90]\n",
        "\n",
        "**Iteración 3** (i=2):\n",
        "- Comparación (j=0): [12, 25, 22, 11, 34, 64, 90]\n",
        "- Comparación (j=1): [12, 22, 25, 11, 34, 64, 90]\n",
        "- Comparación (j=2): [12, 22, 11, 25, 34, 64, 90]\n",
        "\n",
        "**Iteración 4** (i=3):\n",
        "- Comparación (j=0): [12, 22, 11, 25, 34, 64, 90]\n",
        "- Comparación (j=1): [12, 11, 22, 25, 34, 64, 90]\n",
        "\n",
        "**Iteración 5** (i=4):\n",
        "- Comparación (j=0): [11, 12, 22, 25, 34, 64, 90]\n",
        "\n",
        "Después de estas iteraciones, el vector `arr` está completamente ordenado de forma ascendente. Cada paso muestra cómo se intercambian los valores para que el elemento más grande \"burbujee\" hacia la derecha en cada iteración. El algoritmo continúa hasta que no se realicen más intercambios en una iteración completa."
      ],
      "metadata": {
        "id": "kKx9hNFEQHl9"
      }
    },
    {
      "cell_type": "code",
      "source": [
        "# Ejemplo 1 de uso\n",
        "arr = [64, 34, 25, 12, 22, 11, 90]\n",
        "print(\"Vector original:\", arr)\n",
        "sorted_arr = bubble_sort(arr)\n",
        "print(\"Vector ordenado:\", sorted_arr)\n"
      ],
      "metadata": {
        "colab": {
          "base_uri": "https://localhost:8080/"
        },
        "id": "T_s63DjpJhE6",
        "outputId": "a8cfabca-8dab-455f-b651-71847101bf41"
      },
      "execution_count": 15,
      "outputs": [
        {
          "output_type": "stream",
          "name": "stdout",
          "text": [
            "Vector original: [64, 34, 25, 12, 22, 11, 90]\n",
            "Vector ordenado: [11, 12, 22, 25, 34, 64, 90]\n"
          ]
        }
      ]
    },
    {
      "cell_type": "markdown",
      "source": [
        "## 2.Ordenamiento por selección (Selection Sort)\n",
        "\n",
        "El algoritmo de Selection Sort se diferencia del algoritmo de Bubble Sort en que no compara elementos adyacentes y realiza intercambios repetidos. En su lugar, busca el elemento mínimo en el rango no ordenado y lo coloca en su posición correcta en cada iteración del ciclo exterior.\n",
        "\n",
        "Su pseudocódigo en Python es:\n",
        "\n",
        "1. Inicializar un vector 'arr' con los valores del vector.\n",
        "2. Obtener la longitud del vector 'n'.\n",
        "3. Comenzar un ciclo exterior que se repetirá 'n-1' veces para asegurar que el elemento más pequeño se coloque en su posición correcta en cada iteración:\n",
        "#### a. Iniciar un ciclo interior desde 0 hasta 'n - i - 1', donde 'i' es el\n",
        "      número de iteración del ciclo exterior:\n",
        "   #### i. Inicializar una variable 'min_index' con el valor de 'i'.\n",
        "      ii. Comenzar otro ciclo desde 'i + 1' hasta 'n', donde 'j' representa la posición actual:\n",
        "         1. Comparar 'arr[j]' con 'arr[min_index]'.\n",
        "         Si 'arr[j]' es menor que 'arr[min_index]', actualizar 'min_index' con 'j'.\n",
        "      iii. Intercambiar los valores de 'arr[i]' y 'arr[min_index]' para colocar el elemento más pequeño en su posición correcta.\n",
        "####  b. Fin del ciclo interior.\n",
        "4. Repetir el paso 3 hasta que se completen todas las iteraciones del ciclo exterior.\n",
        "5. El vector 'arr' estará completamente ordenado después de todas las iteraciones.\n",
        "6. Mostrar el vector ordenado.\n",
        "\n",
        "\n"
      ],
      "metadata": {
        "id": "ooQ0EVu3XOBV"
      }
    },
    {
      "cell_type": "code",
      "source": [
        "def selection_sort(arr):\n",
        "    n = len(arr)\n",
        "\n",
        "    for i in range(n - 1):\n",
        "        # Suponemos que el elemento actual es el mínimo\n",
        "        min_index = i\n",
        "\n",
        "        # Comparamos con los elementos restantes\n",
        "        for j in range(i + 1, n):\n",
        "            if arr[j] < arr[min_index]:\n",
        "                min_index = j\n",
        "\n",
        "        # Intercambiamos el elemento mínimo encontrado con el elemento actual\n",
        "        arr[i], arr[min_index] = arr[min_index], arr[i]\n",
        "    return arr"
      ],
      "metadata": {
        "id": "4M3Lm_TqY4nS"
      },
      "execution_count": 20,
      "outputs": []
    },
    {
      "cell_type": "code",
      "source": [
        "# Ejemplo de uso:\n",
        "arr = [64, 34, 25, 12, 22, 11, 90]\n",
        "print(\"Vector original:\", arr)\n",
        "selection_sort(arr)\n",
        "print(\"Vector ordenado:\", arr)"
      ],
      "metadata": {
        "colab": {
          "base_uri": "https://localhost:8080/"
        },
        "id": "WEyF5-YtZIwC",
        "outputId": "ee1dfd7a-4ef2-4688-f130-74825fb2f2ab"
      },
      "execution_count": 19,
      "outputs": [
        {
          "output_type": "stream",
          "name": "stdout",
          "text": [
            "Vector original: [64, 34, 25, 12, 22, 11, 90]\n",
            "Vector ordenado: [11, 12, 22, 25, 34, 64, 90]\n"
          ]
        }
      ]
    },
    {
      "cell_type": "markdown",
      "source": [
        "## 3.Ordenamiento por tipo de Inserción (Insertion Sort)\n",
        "\n",
        "Su pseudocódigo en Python es:\n",
        "\n",
        "1. Inicializar un vector 'arr' con los valores del vector.\n",
        "2. Obtener la longitud del vector 'n'.\n",
        "3. Comenzar un ciclo exterior desde el índice 1 hasta 'n' para recorrer todos los elementos del vector:\n",
        "   a. Guardar el valor de 'arr[i]' en una variable temporal llamada 'valor_actual'.\n",
        "   b. Iniciar un ciclo interior desde 'i-1' hacia atrás hasta 0, mientras 'j' sea mayor o igual a 0, y mientras 'arr[j]' sea mayor que 'valor_actual':\n",
        "      1. Mover 'arr[j]' al siguiente índice, es decir, 'arr[j+1] = arr[j]'.\n",
        "      2. Decrementar 'j' en 1.\n",
        "   c. Asignar 'valor_actual' a 'arr[j+1]'.\n",
        "4. Repetir el paso 3 hasta que se recorran todos los elementos del vector.\n",
        "5. El vector 'arr' estará completamente ordenado después de todas las iteraciones.\n",
        "6. Mostrar el vector ordenado.\n",
        "\n",
        "\n",
        "\n"
      ],
      "metadata": {
        "id": "GbpDpc7XaXXC"
      }
    },
    {
      "cell_type": "code",
      "source": [
        "def insertion_sort(arr):\n",
        "    # Comenzamos desde el segundo elemento (índice 1) porque consideramos que el primer elemento está ordenado.\n",
        "    for i in range(1, len(arr)):\n",
        "        # Guardamos el valor actual que queremos insertar en su posición correcta.\n",
        "        valor_actual = arr[i]\n",
        "\n",
        "        # Iniciamos un ciclo interior desde la posición actual 'i-1' hacia atrás.\n",
        "        j = i - 1\n",
        "\n",
        "        # Comparamos 'valor_actual' con los elementos en la parte ordenada del vector.\n",
        "        # Si 'valor_actual' es menor que 'arr[j]', desplazamos 'arr[j]' una posición hacia adelante.\n",
        "        while j >= 0 and valor_actual < arr[j]:\n",
        "            arr[j + 1] = arr[j]  # Movemos 'arr[j]' al siguiente índice.\n",
        "            j -= 1  # Decrementamos 'j' para seguir comparando con el siguiente elemento.\n",
        "\n",
        "        # Cuando encontramos la posición correcta, asignamos 'valor_actual' a 'arr[j+1]'.\n",
        "        arr[j + 1] = valor_actual\n",
        "\n",
        "\n"
      ],
      "metadata": {
        "id": "KL2bLl3QalGQ"
      },
      "execution_count": 22,
      "outputs": []
    },
    {
      "cell_type": "code",
      "source": [
        "# Ejemplo de uso:\n",
        "arr = [64, 34, 25, 12, 22, 11, 90]\n",
        "print(\"Vector original:\", arr)\n",
        "insertion_sort(arr)\n",
        "print(\"Vector ordenado:\", arr)"
      ],
      "metadata": {
        "colab": {
          "base_uri": "https://localhost:8080/"
        },
        "id": "WTXnFtkxbRBO",
        "outputId": "23b7f491-9c90-412c-8f02-d4cb17b3115f"
      },
      "execution_count": 23,
      "outputs": [
        {
          "output_type": "stream",
          "name": "stdout",
          "text": [
            "Vector original: [64, 34, 25, 12, 22, 11, 90]\n",
            "Vector ordenado: [11, 12, 22, 25, 34, 64, 90]\n"
          ]
        }
      ]
    },
    {
      "cell_type": "markdown",
      "source": [
        "## 4.Combinar ordenación (Merge Sort)\n",
        "\n",
        "\n",
        "Su pseudocódigo en Python es:\n",
        "\n",
        "1. Si el vector tiene un solo elemento o está vacío, está ordenado por definición.\n",
        "2. De lo contrario, divide el vector en dos mitades aproximadamente iguales:\n",
        "   - Encuentra el punto medio del vector (índice medio).\n",
        "   - Divide el vector en dos subvectores, uno que contiene los elementos desde el inicio hasta el punto medio y otro que contiene los elementos desde el punto medio + 1 hasta el final.\n",
        "3. Recursivamente, ordena cada uno de los subvectores usando el algoritmo Merge Sort.\n",
        "4. Combina (fusiona) los dos subvectores ordenados en un solo vector ordenado de la siguiente manera:\n",
        "   - Compara los elementos en ambos subvectores.\n",
        "   - Agrega el elemento más pequeño al vector de salida.\n",
        "   - Avanza al siguiente elemento en el subvector del que se tomó el elemento.\n",
        "   - Repite los pasos anteriores hasta que ambos subvectores se hayan procesado completamente.\n",
        "5. El vector resultante estará completamente ordenado.\n"
      ],
      "metadata": {
        "id": "iEARM--TbZF7"
      }
    },
    {
      "cell_type": "code",
      "source": [
        "def merge_sort(arr):\n",
        "    # Paso 1: Verificar si el vector tiene más de un elemento\n",
        "    if len(arr) > 1:\n",
        "        # Dividir el vector en dos mitades aproximadamente iguales\n",
        "        mid = len(arr) // 2\n",
        "        left_half = arr[:mid]\n",
        "        right_half = arr[mid:]\n",
        "\n",
        "        # Llamar recursivamente a merge_sort en ambas mitades\n",
        "        merge_sort(left_half)\n",
        "        merge_sort(right_half)\n",
        "\n",
        "        # Inicializar índices para las dos mitades y el índice principal\n",
        "        i = j = k = 0\n",
        "\n",
        "        # Paso 2: Combinar (fusionar) las dos mitades ordenadas\n",
        "        while i < len(left_half) and j < len(right_half):\n",
        "            if left_half[i] < right_half[j]:\n",
        "                # Si el elemento en left_half es menor, agregarlo a arr\n",
        "                arr[k] = left_half[i]\n",
        "                i += 1\n",
        "            else:\n",
        "                # Si el elemento en right_half es menor, agregarlo a arr\n",
        "                arr[k] = right_half[j]\n",
        "                j += 1\n",
        "            k += 1\n",
        "\n",
        "        # Paso 3: Verificar si quedan elementos en left_half o right_half\n",
        "        while i < len(left_half):\n",
        "            arr[k] = left_half[i]\n",
        "            i += 1\n",
        "            k += 1\n",
        "\n",
        "        while j < len(right_half):\n",
        "            arr[k] = right_half[j]\n",
        "            j += 1\n",
        "            k += 1\n"
      ],
      "metadata": {
        "id": "D05aH5mpcAjq"
      },
      "execution_count": 28,
      "outputs": []
    },
    {
      "cell_type": "code",
      "source": [
        "# Ejemplo de uso\n",
        "arr = [64, 34, 25, 12, 22, 11, 90]\n",
        "print(\"Vector original:\", arr)\n",
        "merge_sort(arr)\n",
        "print(\"Vector ordenado:\", arr)"
      ],
      "metadata": {
        "colab": {
          "base_uri": "https://localhost:8080/"
        },
        "id": "Y7xD5hbccZK8",
        "outputId": "8cc5edcc-100d-4d97-9ec7-fe0af60e37af"
      },
      "execution_count": 29,
      "outputs": [
        {
          "output_type": "stream",
          "name": "stdout",
          "text": [
            "Vector original: [64, 34, 25, 12, 22, 11, 90]\n",
            "Vector ordenado: [11, 12, 22, 25, 34, 64, 90]\n"
          ]
        }
      ]
    }
  ]
}