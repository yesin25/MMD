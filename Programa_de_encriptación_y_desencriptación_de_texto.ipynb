{
  "nbformat": 4,
  "nbformat_minor": 0,
  "metadata": {
    "colab": {
      "provenance": [],
      "authorship_tag": "ABX9TyPeEdkVPjpsBH0b/Hy2WMNO",
      "include_colab_link": true
    },
    "kernelspec": {
      "name": "python3",
      "display_name": "Python 3"
    },
    "language_info": {
      "name": "python"
    }
  },
  "cells": [
    {
      "cell_type": "markdown",
      "metadata": {
        "id": "view-in-github",
        "colab_type": "text"
      },
      "source": [
        "<a href=\"https://colab.research.google.com/github/yesin25/MMD/blob/main/Programa_de_encriptaci%C3%B3n_y_desencriptaci%C3%B3n_de_texto.ipynb\" target=\"_parent\"><img src=\"https://colab.research.google.com/assets/colab-badge.svg\" alt=\"Open In Colab\"/></a>"
      ]
    },
    {
      "cell_type": "markdown",
      "source": [
        "<img width=\"800px\" src=\"https://static.wikia.nocookie.net/logopedia/images/5/50/Universidad_Ricardo_Palma.jpg/revision/latest?cb=20210407204705&path-prefix=es\"></img>\n",
        "# <font color='Darkgreen'>**Unidad de Posgrado - Maestria en Ciencias de los Datos**</font></span>\n",
        "## <font color='Green'> **Métodos de Matrices Distribuidas** </font></span>\n",
        "Alumno: **Camarena - Pachas - Yesin**"
      ],
      "metadata": {
        "id": "15sTqYUIhYbG"
      }
    },
    {
      "cell_type": "markdown",
      "source": [
        "Desarrolle en Google Colaboratory un programa que encripte y desencripte los texto que pueden enviar."
      ],
      "metadata": {
        "id": "OxzCTdwCh6a2"
      }
    },
    {
      "cell_type": "markdown",
      "source": [
        "### Paso 1: Representar el mensaje como una matriz numérica"
      ],
      "metadata": {
        "id": "3EwSQ-OFiMXx"
      }
    },
    {
      "cell_type": "code",
      "source": [
        "import numpy as np\n",
        "\n",
        "\n",
        "mensaje = \"HOY ES EL PRIMER DIA\"\n",
        "mensaje = mensaje.upper()  # Convertir el mensaje a mayúsculas\n",
        "alfabeto = \"ABCDEFGHIJKLMNOPQRSTUVWXYZ\"\n",
        "mensaje_numerico = []\n",
        "\n",
        "for letra in mensaje:\n",
        "    if letra == \" \":  # Manejar espacios en blanco\n",
        "        mensaje_numerico.append(27)  # Asignar el valor 27 al espacio en blanco\n",
        "    elif letra in alfabeto:\n",
        "        mensaje_numerico.append(alfabeto.index(letra) + 1)\n",
        "    else:\n",
        "        print(f\"Caracter no válido: {letra}\")\n",
        "\n",
        "# Asegurarse de que M tenga 3 columnas\n",
        "num_filas = len(mensaje_numerico) // 3 + (len(mensaje_numerico) % 3 > 0)\n",
        "M = np.array(mensaje_numerico + [0] * (num_filas * 3 - len(mensaje_numerico)))\n",
        "M = M.reshape(3, -1)\n",
        "\n",
        "# Mostrar la matriz M\n",
        "print(\"Matriz M:\")\n",
        "print(M)\n"
      ],
      "metadata": {
        "colab": {
          "base_uri": "https://localhost:8080/"
        },
        "id": "kAICgpG_MUY8",
        "outputId": "58306c94-c519-4696-aef0-aa66e5b0fd07"
      },
      "execution_count": 81,
      "outputs": [
        {
          "output_type": "stream",
          "name": "stdout",
          "text": [
            "Matriz M:\n",
            "[[ 8 15 25 27  5 19 27]\n",
            " [ 5 12 27 16 18  9 13]\n",
            " [ 5 18 27  4  9  1  0]]\n"
          ]
        }
      ]
    },
    {
      "cell_type": "markdown",
      "source": [
        "### Paso 2: Crear una matriz clave fija (A) de 3x3"
      ],
      "metadata": {
        "id": "5Sw3XsOyiUYs"
      }
    },
    {
      "cell_type": "code",
      "source": [
        "A = np.array([[-1, 1, 1],\n",
        "            [-2, -3, 1],\n",
        "            [3, 1, -2]])\n",
        "\n",
        "# Mostrar la matriz clave A\n",
        "print(\"\\nMatriz Clave A:\")\n",
        "print(A)\n"
      ],
      "metadata": {
        "colab": {
          "base_uri": "https://localhost:8080/"
        },
        "id": "U_9c0HolbqRU",
        "outputId": "c985d343-c779-41db-e0bf-b44f8f44b8b1"
      },
      "execution_count": 82,
      "outputs": [
        {
          "output_type": "stream",
          "name": "stdout",
          "text": [
            "\n",
            "Matriz Clave A:\n",
            "[[-1  1  1]\n",
            " [-2 -3  1]\n",
            " [ 3  1 -2]]\n"
          ]
        }
      ]
    },
    {
      "cell_type": "markdown",
      "source": [
        "### Paso 3: Multiplicar A por M para obtener el mensaje cifrado (C)"
      ],
      "metadata": {
        "id": "wTpW2Mr-iaSF"
      }
    },
    {
      "cell_type": "code",
      "source": [
        "C = np.dot(A, M) # Se aplica módulo 27\n",
        "print(\"\\nMatriz Cifrada C = AM:\")\n",
        "print(C)"
      ],
      "metadata": {
        "colab": {
          "base_uri": "https://localhost:8080/"
        },
        "id": "kR1Nq5pHbtAs",
        "outputId": "9b4204fb-05cd-425f-e355-ff6c38d1c9d6"
      },
      "execution_count": 93,
      "outputs": [
        {
          "output_type": "stream",
          "name": "stdout",
          "text": [
            "\n",
            "Matriz Cifrada C = AM:\n",
            "[[   2   15   29   -7   22   -9  -14]\n",
            " [ -26  -48 -104  -98  -55  -64  -93]\n",
            " [  19   21   48   89   15   64   94]]\n"
          ]
        }
      ]
    },
    {
      "cell_type": "markdown",
      "source": [
        "### Paso 4: Descifrar el mensaje cifrado multiplicando $A^{-1}*C$"
      ],
      "metadata": {
        "id": "2TlkGn6vijkF"
      }
    },
    {
      "cell_type": "code",
      "source": [
        "\n",
        "A_inversa = np.linalg.inv(A).round().astype(int)\n",
        "M_descifrado = np.dot(A_inversa, C).round().astype(int) #% 27\n",
        "\n",
        "#Mostrar la Matriz inversa\n",
        "print(\"\\nMatriz Inversa A^(-1):\")\n",
        "print(A_inversa)\n",
        "\n",
        "# Mostrar la matriz descifrada M\n",
        "print(\"\\nMatriz Descifrada M= A^(-1)*C:\")\n",
        "print(M_descifrado)"
      ],
      "metadata": {
        "colab": {
          "base_uri": "https://localhost:8080/"
        },
        "id": "ygPNiq3Obxo2",
        "outputId": "2c54c941-5054-4ea8-a194-6aba6662ed0e"
      },
      "execution_count": 94,
      "outputs": [
        {
          "output_type": "stream",
          "name": "stdout",
          "text": [
            "\n",
            "Matriz Inversa A^(-1):\n",
            "[[ 5  3  4]\n",
            " [-1 -1 -1]\n",
            " [ 7  4  5]]\n",
            "\n",
            "Matriz Descifrada M= A^(-1)*C:\n",
            "[[ 8 15 25 27  5 19 27]\n",
            " [ 5 12 27 16 18  9 13]\n",
            " [ 5 18 27  4  9  1  0]]\n"
          ]
        }
      ]
    },
    {
      "cell_type": "markdown",
      "source": [
        "### Paso 5: Decodificar la matriz numérica en un mensaje de texto legible"
      ],
      "metadata": {
        "id": "8nMUBQ7rjQCn"
      }
    },
    {
      "cell_type": "code",
      "source": [
        "\n",
        "import numpy as np\n",
        "\n",
        "# Alfabeto con espacio en blanco\n",
        "alfabeto = \"ABCDEFGHIJKLMNOPQRSTUVWXYZ \"\n",
        "\n",
        "# Función para convertir una matriz de números en un mensaje de texto\n",
        "def matriz_a_mensaje(matriz):\n",
        "    mensaje = \"\"\n",
        "    filas, columnas = matriz.shape\n",
        "\n",
        "    for fila in range(filas):\n",
        "        for columna in range(columnas):\n",
        "            numero = matriz[fila, columna]\n",
        "            if numero == 27:  # Espacio en blanco\n",
        "                mensaje += \" \"\n",
        "            elif numero >= 1 and numero <= 26:\n",
        "                letra = alfabeto[numero - 1]\n",
        "                mensaje += letra\n",
        "\n",
        "    return mensaje\n",
        "\n",
        "# Convertir la matriz descifrada en un mensaje\n",
        "mensaje_descifrado = matriz_a_mensaje(M_descifrado)\n",
        "print(\"Mensaje Descifrado:\")\n",
        "print(mensaje_descifrado)\n"
      ],
      "metadata": {
        "colab": {
          "base_uri": "https://localhost:8080/"
        },
        "id": "QK8Fm6C-MnOZ",
        "outputId": "e5fa1c60-325e-4829-a875-65aa821db123"
      },
      "execution_count": 91,
      "outputs": [
        {
          "output_type": "stream",
          "name": "stdout",
          "text": [
            "Mensaje Descifrado:\n",
            "HOY ES EL PRIMER DIA\n"
          ]
        }
      ]
    },
    {
      "cell_type": "code",
      "source": [
        "from sympy import Matrix, symbols\n",
        "\n",
        "# Definir el alfabeto y el mensaje\n",
        "alfabeto = \"ABCDEFGHIJKLMNOPQRSTUVWXYZ\"\n",
        "mensaje = \"HOY ES EL PRIMER DIA\"\n",
        "\n",
        "# Crear un diccionario para mapear letras a números\n",
        "letra_a_numero = {letra: i + 1 for i, letra in enumerate(alfabeto)}\n",
        "letra_a_numero[\" \"] = 27  # Espacio en blanco\n",
        "\n",
        "# Convertir el mensaje en una lista de números\n",
        "mensaje_numerico = [letra_a_numero[letra] for letra in mensaje]\n",
        "\n",
        "# Calcular el número de columnas necesarias para la matriz\n",
        "num_columnas = len(mensaje)  # El número de letras en el mensaje\n",
        "\n",
        "# Crear la matriz numérica\n",
        "M = Matrix(mensaje_numerico)\n",
        "\n",
        "# Redimensionar la matriz para que tenga una fila y las columnas necesarias\n",
        "M = M.reshape(1, num_columnas)\n",
        "\n",
        "M\n"
      ],
      "metadata": {
        "id": "Lt36FWYnfQIq"
      },
      "execution_count": null,
      "outputs": []
    }
  ]
}